{
 "cells": [
  {
   "cell_type": "markdown",
   "metadata": {
    "slideshow": {
     "slide_type": "slide"
    }
   },
   "source": [
    "# (How the Trip Duration Differs by Riders' Characteristics and Time)\n",
    "## by (Mohamed Hossam El_Din)"
   ]
  },
  {
   "cell_type": "markdown",
   "metadata": {
    "slideshow": {
     "slide_type": "slide"
    }
   },
   "source": [
    "## Investigation Overview\n",
    "\n",
    ">  In this presentation, I will highlight the features by which a bike trip duration will be affected. These features are ( the day of the week\"weekDay\", time, user_type, gender, and age)\n",
    "\n",
    "## Dataset Overview\n",
    "\n",
    ">  This Dataset from February 2019 contains about (183.5 k) record about bike sharing system trips including the duration, start and end times and locations, riders' birth years and genders,and whether they are customers or subscribers. About 10k trips was excluded due to inconsistencies or missing information."
   ]
  },
  {
   "cell_type": "markdown",
   "metadata": {
    "slideshow": {
     "slide_type": "skip"
    }
   },
   "source": [
    "# (Fordgobike Data Exploration )\n",
    "## by (Mohamed Hossam El_Din)\n",
    "\n",
    "## Preliminary Wrangling\n",
    "\n",
    "> \n",
    "This Dataset from February 2019 contains data about bike sharing system trips including the duration, start and end times and locations, riders' birth years and genders, whether they are customers or subscribers, and whether they are inrolled in bike_share_for_all program or not. "
   ]
  },
  {
   "cell_type": "code",
   "execution_count": 1,
   "metadata": {
    "slideshow": {
     "slide_type": "skip"
    }
   },
   "outputs": [],
   "source": [
    "# import all packages and set plots to be embedded inline\n",
    "import numpy as np\n",
    "import pandas as pd\n",
    "import matplotlib.pyplot as plt\n",
    "import seaborn as sb\n",
    "\n",
    "%matplotlib inline"
   ]
  },
  {
   "cell_type": "code",
   "execution_count": 3,
   "metadata": {
    "slideshow": {
     "slide_type": "skip"
    }
   },
   "outputs": [
    {
     "data": {
      "text/html": [
       "<div>\n",
       "<style scoped>\n",
       "    .dataframe tbody tr th:only-of-type {\n",
       "        vertical-align: middle;\n",
       "    }\n",
       "\n",
       "    .dataframe tbody tr th {\n",
       "        vertical-align: top;\n",
       "    }\n",
       "\n",
       "    .dataframe thead th {\n",
       "        text-align: right;\n",
       "    }\n",
       "</style>\n",
       "<table border=\"1\" class=\"dataframe\">\n",
       "  <thead>\n",
       "    <tr style=\"text-align: right;\">\n",
       "      <th></th>\n",
       "      <th>duration_sec</th>\n",
       "      <th>start_time</th>\n",
       "      <th>end_time</th>\n",
       "      <th>start_station_id</th>\n",
       "      <th>start_station_name</th>\n",
       "      <th>start_station_latitude</th>\n",
       "      <th>start_station_longitude</th>\n",
       "      <th>end_station_id</th>\n",
       "      <th>end_station_name</th>\n",
       "      <th>end_station_latitude</th>\n",
       "      <th>end_station_longitude</th>\n",
       "      <th>bike_id</th>\n",
       "      <th>user_type</th>\n",
       "      <th>member_birth_year</th>\n",
       "      <th>member_gender</th>\n",
       "      <th>bike_share_for_all_trip</th>\n",
       "    </tr>\n",
       "  </thead>\n",
       "  <tbody>\n",
       "    <tr>\n",
       "      <th>0</th>\n",
       "      <td>52185</td>\n",
       "      <td>2019-02-28 17:32:10.1450</td>\n",
       "      <td>2019-03-01 08:01:55.9750</td>\n",
       "      <td>21.0</td>\n",
       "      <td>Montgomery St BART Station (Market St at 2nd St)</td>\n",
       "      <td>37.789625</td>\n",
       "      <td>-122.400811</td>\n",
       "      <td>13.0</td>\n",
       "      <td>Commercial St at Montgomery St</td>\n",
       "      <td>37.794231</td>\n",
       "      <td>-122.402923</td>\n",
       "      <td>4902</td>\n",
       "      <td>Customer</td>\n",
       "      <td>1984.0</td>\n",
       "      <td>Male</td>\n",
       "      <td>No</td>\n",
       "    </tr>\n",
       "    <tr>\n",
       "      <th>1</th>\n",
       "      <td>42521</td>\n",
       "      <td>2019-02-28 18:53:21.7890</td>\n",
       "      <td>2019-03-01 06:42:03.0560</td>\n",
       "      <td>23.0</td>\n",
       "      <td>The Embarcadero at Steuart St</td>\n",
       "      <td>37.791464</td>\n",
       "      <td>-122.391034</td>\n",
       "      <td>81.0</td>\n",
       "      <td>Berry St at 4th St</td>\n",
       "      <td>37.775880</td>\n",
       "      <td>-122.393170</td>\n",
       "      <td>2535</td>\n",
       "      <td>Customer</td>\n",
       "      <td>NaN</td>\n",
       "      <td>NaN</td>\n",
       "      <td>No</td>\n",
       "    </tr>\n",
       "    <tr>\n",
       "      <th>2</th>\n",
       "      <td>61854</td>\n",
       "      <td>2019-02-28 12:13:13.2180</td>\n",
       "      <td>2019-03-01 05:24:08.1460</td>\n",
       "      <td>86.0</td>\n",
       "      <td>Market St at Dolores St</td>\n",
       "      <td>37.769305</td>\n",
       "      <td>-122.426826</td>\n",
       "      <td>3.0</td>\n",
       "      <td>Powell St BART Station (Market St at 4th St)</td>\n",
       "      <td>37.786375</td>\n",
       "      <td>-122.404904</td>\n",
       "      <td>5905</td>\n",
       "      <td>Customer</td>\n",
       "      <td>1972.0</td>\n",
       "      <td>Male</td>\n",
       "      <td>No</td>\n",
       "    </tr>\n",
       "    <tr>\n",
       "      <th>3</th>\n",
       "      <td>36490</td>\n",
       "      <td>2019-02-28 17:54:26.0100</td>\n",
       "      <td>2019-03-01 04:02:36.8420</td>\n",
       "      <td>375.0</td>\n",
       "      <td>Grove St at Masonic Ave</td>\n",
       "      <td>37.774836</td>\n",
       "      <td>-122.446546</td>\n",
       "      <td>70.0</td>\n",
       "      <td>Central Ave at Fell St</td>\n",
       "      <td>37.773311</td>\n",
       "      <td>-122.444293</td>\n",
       "      <td>6638</td>\n",
       "      <td>Subscriber</td>\n",
       "      <td>1989.0</td>\n",
       "      <td>Other</td>\n",
       "      <td>No</td>\n",
       "    </tr>\n",
       "    <tr>\n",
       "      <th>4</th>\n",
       "      <td>1585</td>\n",
       "      <td>2019-02-28 23:54:18.5490</td>\n",
       "      <td>2019-03-01 00:20:44.0740</td>\n",
       "      <td>7.0</td>\n",
       "      <td>Frank H Ogawa Plaza</td>\n",
       "      <td>37.804562</td>\n",
       "      <td>-122.271738</td>\n",
       "      <td>222.0</td>\n",
       "      <td>10th Ave at E 15th St</td>\n",
       "      <td>37.792714</td>\n",
       "      <td>-122.248780</td>\n",
       "      <td>4898</td>\n",
       "      <td>Subscriber</td>\n",
       "      <td>1974.0</td>\n",
       "      <td>Male</td>\n",
       "      <td>Yes</td>\n",
       "    </tr>\n",
       "  </tbody>\n",
       "</table>\n",
       "</div>"
      ],
      "text/plain": [
       "   duration_sec                start_time                  end_time  \\\n",
       "0         52185  2019-02-28 17:32:10.1450  2019-03-01 08:01:55.9750   \n",
       "1         42521  2019-02-28 18:53:21.7890  2019-03-01 06:42:03.0560   \n",
       "2         61854  2019-02-28 12:13:13.2180  2019-03-01 05:24:08.1460   \n",
       "3         36490  2019-02-28 17:54:26.0100  2019-03-01 04:02:36.8420   \n",
       "4          1585  2019-02-28 23:54:18.5490  2019-03-01 00:20:44.0740   \n",
       "\n",
       "   start_station_id                                start_station_name  \\\n",
       "0              21.0  Montgomery St BART Station (Market St at 2nd St)   \n",
       "1              23.0                     The Embarcadero at Steuart St   \n",
       "2              86.0                           Market St at Dolores St   \n",
       "3             375.0                           Grove St at Masonic Ave   \n",
       "4               7.0                               Frank H Ogawa Plaza   \n",
       "\n",
       "   start_station_latitude  start_station_longitude  end_station_id  \\\n",
       "0               37.789625              -122.400811            13.0   \n",
       "1               37.791464              -122.391034            81.0   \n",
       "2               37.769305              -122.426826             3.0   \n",
       "3               37.774836              -122.446546            70.0   \n",
       "4               37.804562              -122.271738           222.0   \n",
       "\n",
       "                               end_station_name  end_station_latitude  \\\n",
       "0                Commercial St at Montgomery St             37.794231   \n",
       "1                            Berry St at 4th St             37.775880   \n",
       "2  Powell St BART Station (Market St at 4th St)             37.786375   \n",
       "3                        Central Ave at Fell St             37.773311   \n",
       "4                         10th Ave at E 15th St             37.792714   \n",
       "\n",
       "   end_station_longitude  bike_id   user_type  member_birth_year  \\\n",
       "0            -122.402923     4902    Customer             1984.0   \n",
       "1            -122.393170     2535    Customer                NaN   \n",
       "2            -122.404904     5905    Customer             1972.0   \n",
       "3            -122.444293     6638  Subscriber             1989.0   \n",
       "4            -122.248780     4898  Subscriber             1974.0   \n",
       "\n",
       "  member_gender bike_share_for_all_trip  \n",
       "0          Male                      No  \n",
       "1           NaN                      No  \n",
       "2          Male                      No  \n",
       "3         Other                      No  \n",
       "4          Male                     Yes  "
      ]
     },
     "execution_count": 3,
     "metadata": {},
     "output_type": "execute_result"
    }
   ],
   "source": [
    "# Loading the data into (fordgobike) dataframe:\n",
    "fordgobike = pd.read_csv('201902-fordgobike-tripdata.csv')\n",
    "fordgobike.head()"
   ]
  },
  {
   "cell_type": "markdown",
   "metadata": {
    "slideshow": {
     "slide_type": "skip"
    }
   },
   "source": [
    "Most of these columns will not be useful for my invistigation so I will drop them in a few steps."
   ]
  },
  {
   "cell_type": "code",
   "execution_count": 4,
   "metadata": {
    "slideshow": {
     "slide_type": "skip"
    }
   },
   "outputs": [
    {
     "name": "stdout",
     "output_type": "stream",
     "text": [
      "(183412, 16)\n"
     ]
    }
   ],
   "source": [
    "print(fordgobike.shape)"
   ]
  },
  {
   "cell_type": "code",
   "execution_count": 5,
   "metadata": {
    "slideshow": {
     "slide_type": "skip"
    }
   },
   "outputs": [
    {
     "name": "stdout",
     "output_type": "stream",
     "text": [
      "<class 'pandas.core.frame.DataFrame'>\n",
      "RangeIndex: 183412 entries, 0 to 183411\n",
      "Data columns (total 16 columns):\n",
      " #   Column                   Non-Null Count   Dtype  \n",
      "---  ------                   --------------   -----  \n",
      " 0   duration_sec             183412 non-null  int64  \n",
      " 1   start_time               183412 non-null  object \n",
      " 2   end_time                 183412 non-null  object \n",
      " 3   start_station_id         183215 non-null  float64\n",
      " 4   start_station_name       183215 non-null  object \n",
      " 5   start_station_latitude   183412 non-null  float64\n",
      " 6   start_station_longitude  183412 non-null  float64\n",
      " 7   end_station_id           183215 non-null  float64\n",
      " 8   end_station_name         183215 non-null  object \n",
      " 9   end_station_latitude     183412 non-null  float64\n",
      " 10  end_station_longitude    183412 non-null  float64\n",
      " 11  bike_id                  183412 non-null  int64  \n",
      " 12  user_type                183412 non-null  object \n",
      " 13  member_birth_year        175147 non-null  float64\n",
      " 14  member_gender            175147 non-null  object \n",
      " 15  bike_share_for_all_trip  183412 non-null  object \n",
      "dtypes: float64(7), int64(2), object(7)\n",
      "memory usage: 22.4+ MB\n"
     ]
    }
   ],
   "source": [
    "# General overview:\n",
    "fordgobike.info()"
   ]
  },
  {
   "cell_type": "code",
   "execution_count": 6,
   "metadata": {
    "slideshow": {
     "slide_type": "skip"
    }
   },
   "outputs": [
    {
     "data": {
      "text/plain": [
       "count    183412.000000\n",
       "mean        726.078435\n",
       "std        1794.389780\n",
       "min          61.000000\n",
       "25%         325.000000\n",
       "50%         514.000000\n",
       "75%         796.000000\n",
       "max       85444.000000\n",
       "Name: duration_sec, dtype: float64"
      ]
     },
     "execution_count": 6,
     "metadata": {},
     "output_type": "execute_result"
    }
   ],
   "source": [
    "fordgobike.duration_sec.describe()"
   ]
  },
  {
   "cell_type": "code",
   "execution_count": 7,
   "metadata": {
    "scrolled": true,
    "slideshow": {
     "slide_type": "skip"
    }
   },
   "outputs": [
    {
     "data": {
      "text/plain": [
       "0"
      ]
     },
     "execution_count": 7,
     "metadata": {},
     "output_type": "execute_result"
    }
   ],
   "source": [
    "sum(fordgobike.duplicated())"
   ]
  },
  {
   "cell_type": "markdown",
   "metadata": {
    "slideshow": {
     "slide_type": "skip"
    }
   },
   "source": [
    "No duplicates."
   ]
  },
  {
   "cell_type": "markdown",
   "metadata": {
    "slideshow": {
     "slide_type": "skip"
    }
   },
   "source": [
    "So far I will need to add columns for:\n",
    "    \n",
    "    -duration in minutes to make it more interpretable during invistigation: duration_min\n",
    "    -the day of the month from start_time column since the data is for February 2019 : start_day\n",
    "    -the hour of the day from start_time column : start_hour\n",
    "    -the day of week : weekDay\n",
    "    -the age form member_birth_year since it will be more useful and easier to interpret."
   ]
  },
  {
   "cell_type": "code",
   "execution_count": 8,
   "metadata": {
    "slideshow": {
     "slide_type": "skip"
    }
   },
   "outputs": [],
   "source": [
    "# For duration, I going to change it to be in minutes rather than seconds, so that it's more interpretable.\n",
    "\n",
    "duration_min = fordgobike.duration_sec / 60\n",
    "fordgobike.insert(1, 'duration_min', duration_min)\n",
    "fordgobike['duration_min'] = fordgobike['duration_min'].round(decimals=0)\n",
    "fordgobike.duration_min = fordgobike.duration_min.astype(int)"
   ]
  },
  {
   "cell_type": "code",
   "execution_count": 9,
   "metadata": {
    "slideshow": {
     "slide_type": "skip"
    }
   },
   "outputs": [],
   "source": [
    "# now extracting start_day, and start_hour form start_time column:\n",
    "\n",
    "fordgobike.start_time = pd.to_datetime(fordgobike.start_time)\n",
    "\n",
    "start_day = fordgobike.start_time.dt.day\n",
    "fordgobike.insert(3, 'start_day', start_day)\n",
    "\n",
    "start_hour = fordgobike.start_time.dt.hour\n",
    "fordgobike.insert(3, 'start_hour', start_hour)"
   ]
  },
  {
   "cell_type": "code",
   "execution_count": 10,
   "metadata": {
    "slideshow": {
     "slide_type": "skip"
    }
   },
   "outputs": [],
   "source": [
    "# Here, I'm creating a column for Day names so that I can track the relation between them and the trip duration.\n",
    "\n",
    "days={0:'Monday', 1:'Tuesday', 2:'Wednesday', 3:'Thursday', 4:'Friday', 5:'Saturday', 6:'Sunday'}\n",
    "weekDay = fordgobike['start_time'].dt.dayofweek.map(days)\n",
    "fordgobike.insert(5, 'weekDay', weekDay)"
   ]
  },
  {
   "cell_type": "code",
   "execution_count": 11,
   "metadata": {
    "slideshow": {
     "slide_type": "skip"
    }
   },
   "outputs": [],
   "source": [
    "# changing the weekDay column into categorical ordinal:\n",
    "\n",
    "days = ['Monday', 'Tuesday', 'Wednesday', 'Thursday', 'Friday', 'Saturday', 'Sunday']\n",
    "week_days = pd.api.types.CategoricalDtype(ordered=True, categories=days)\n",
    "fordgobike.weekDay = fordgobike.weekDay.astype(week_days)"
   ]
  },
  {
   "cell_type": "code",
   "execution_count": 12,
   "metadata": {
    "slideshow": {
     "slide_type": "skip"
    }
   },
   "outputs": [],
   "source": [
    "# Since I want to make use of age, gender, and user type, I will drop any row having NaN value in these columns.\n",
    "\n",
    "fordgobike.dropna(subset=['user_type', 'member_birth_year', 'member_gender', 'bike_share_for_all_trip'], inplace=True)"
   ]
  },
  {
   "cell_type": "code",
   "execution_count": 13,
   "metadata": {
    "slideshow": {
     "slide_type": "skip"
    }
   },
   "outputs": [],
   "source": [
    "# Creating a column \"age\" for riders' ages instead of their birth years:\n",
    "\n",
    "fordgobike.member_birth_year = fordgobike.member_birth_year.astype(int)\n",
    "fordgobike['age'] = 2019 - fordgobike.member_birth_year"
   ]
  },
  {
   "cell_type": "code",
   "execution_count": 14,
   "metadata": {
    "slideshow": {
     "slide_type": "skip"
    }
   },
   "outputs": [],
   "source": [
    "# Dropping unwanted columns:\n",
    "\n",
    "fordgobike.drop(labels=['duration_sec', 'start_time', 'end_time', 'start_station_id', 'start_station_name', 'start_station_latitude', 'start_station_longitude', \n",
    "                       'end_station_id', 'end_station_name', 'end_station_latitude', 'end_station_longitude', 'bike_id',\n",
    "                        'member_birth_year'], axis=1, inplace=True)"
   ]
  },
  {
   "cell_type": "code",
   "execution_count": 15,
   "metadata": {
    "slideshow": {
     "slide_type": "skip"
    }
   },
   "outputs": [
    {
     "data": {
      "text/html": [
       "<div>\n",
       "<style scoped>\n",
       "    .dataframe tbody tr th:only-of-type {\n",
       "        vertical-align: middle;\n",
       "    }\n",
       "\n",
       "    .dataframe tbody tr th {\n",
       "        vertical-align: top;\n",
       "    }\n",
       "\n",
       "    .dataframe thead th {\n",
       "        text-align: right;\n",
       "    }\n",
       "</style>\n",
       "<table border=\"1\" class=\"dataframe\">\n",
       "  <thead>\n",
       "    <tr style=\"text-align: right;\">\n",
       "      <th></th>\n",
       "      <th>duration_min</th>\n",
       "      <th>start_hour</th>\n",
       "      <th>start_day</th>\n",
       "      <th>weekDay</th>\n",
       "      <th>user_type</th>\n",
       "      <th>member_gender</th>\n",
       "      <th>bike_share_for_all_trip</th>\n",
       "      <th>age</th>\n",
       "    </tr>\n",
       "  </thead>\n",
       "  <tbody>\n",
       "    <tr>\n",
       "      <th>0</th>\n",
       "      <td>870</td>\n",
       "      <td>17</td>\n",
       "      <td>28</td>\n",
       "      <td>Thursday</td>\n",
       "      <td>Customer</td>\n",
       "      <td>Male</td>\n",
       "      <td>No</td>\n",
       "      <td>35</td>\n",
       "    </tr>\n",
       "    <tr>\n",
       "      <th>1</th>\n",
       "      <td>1031</td>\n",
       "      <td>12</td>\n",
       "      <td>28</td>\n",
       "      <td>Thursday</td>\n",
       "      <td>Customer</td>\n",
       "      <td>Male</td>\n",
       "      <td>No</td>\n",
       "      <td>47</td>\n",
       "    </tr>\n",
       "    <tr>\n",
       "      <th>2</th>\n",
       "      <td>608</td>\n",
       "      <td>17</td>\n",
       "      <td>28</td>\n",
       "      <td>Thursday</td>\n",
       "      <td>Subscriber</td>\n",
       "      <td>Other</td>\n",
       "      <td>No</td>\n",
       "      <td>30</td>\n",
       "    </tr>\n",
       "    <tr>\n",
       "      <th>3</th>\n",
       "      <td>26</td>\n",
       "      <td>23</td>\n",
       "      <td>28</td>\n",
       "      <td>Thursday</td>\n",
       "      <td>Subscriber</td>\n",
       "      <td>Male</td>\n",
       "      <td>Yes</td>\n",
       "      <td>45</td>\n",
       "    </tr>\n",
       "    <tr>\n",
       "      <th>4</th>\n",
       "      <td>30</td>\n",
       "      <td>23</td>\n",
       "      <td>28</td>\n",
       "      <td>Thursday</td>\n",
       "      <td>Subscriber</td>\n",
       "      <td>Male</td>\n",
       "      <td>No</td>\n",
       "      <td>60</td>\n",
       "    </tr>\n",
       "  </tbody>\n",
       "</table>\n",
       "</div>"
      ],
      "text/plain": [
       "   duration_min  start_hour  start_day   weekDay   user_type member_gender  \\\n",
       "0           870          17         28  Thursday    Customer          Male   \n",
       "1          1031          12         28  Thursday    Customer          Male   \n",
       "2           608          17         28  Thursday  Subscriber         Other   \n",
       "3            26          23         28  Thursday  Subscriber          Male   \n",
       "4            30          23         28  Thursday  Subscriber          Male   \n",
       "\n",
       "  bike_share_for_all_trip  age  \n",
       "0                      No   35  \n",
       "1                      No   47  \n",
       "2                      No   30  \n",
       "3                     Yes   45  \n",
       "4                      No   60  "
      ]
     },
     "execution_count": 15,
     "metadata": {},
     "output_type": "execute_result"
    }
   ],
   "source": [
    "# This is how my dataframe looks like after wrangling:\n",
    "\n",
    "fordgobike.reset_index(inplace=True, drop=True)\n",
    "fordgobike.head()"
   ]
  },
  {
   "cell_type": "code",
   "execution_count": 16,
   "metadata": {
    "slideshow": {
     "slide_type": "skip"
    }
   },
   "outputs": [
    {
     "name": "stdout",
     "output_type": "stream",
     "text": [
      "(175147, 8)\n",
      "duration_min                  int32\n",
      "start_hour                    int64\n",
      "start_day                     int64\n",
      "weekDay                    category\n",
      "user_type                    object\n",
      "member_gender                object\n",
      "bike_share_for_all_trip      object\n",
      "age                           int32\n",
      "dtype: object\n"
     ]
    }
   ],
   "source": [
    "print(fordgobike.shape)\n",
    "print(fordgobike.dtypes)"
   ]
  },
  {
   "cell_type": "markdown",
   "metadata": {
    "slideshow": {
     "slide_type": "skip"
    }
   },
   "source": [
    "### What is the structure of your dataset?\n",
    "\n",
    ">  After wrangling, there are about 175 thousand trips in my dataframe with 8 features (duration_min, start_hour, start_day, weekDay, user_type, member_gender, bike_share_for_all_trip, age). duration_min, start_hour,and start_day are numeric variables, while the rest are categorical in nature with weekDay ordered categorical.\n",
    "\n",
    "### What is/are the main feature(s) of interest in your dataset?\n",
    "\n",
    "> I want to see what variables have the most effect on the duration of each trip. So (duration_min) is my main feature.\n",
    "\n",
    "### What features in the dataset do you think will help support your investigation into your feature(s) of interest?\n",
    "\n",
    "> I think that a trip duration will change from hour to hour within the day(start_hour), from day to day within a month(start_day), for each day in the week(weekDay). Also (user_type, gender, and age) my have a relation with the average trip duration."
   ]
  },
  {
   "cell_type": "markdown",
   "metadata": {
    "slideshow": {
     "slide_type": "skip"
    }
   },
   "source": [
    "## Univariate Exploration\n",
    "\n"
   ]
  },
  {
   "cell_type": "markdown",
   "metadata": {
    "slideshow": {
     "slide_type": "skip"
    }
   },
   "source": [
    "##### I will be investigating :\n",
    "    \n",
    "    1-the distibution of the duration.\n",
    "    2-the distibution of the start_hour.\n",
    "    3-the distibution of the start_day, and weekDay.\n",
    "    4-the distibution of the age.\n",
    "    5-the relative fractions of user_type, member_gender, and bike_share_for_all_trip."
   ]
  },
  {
   "cell_type": "code",
   "execution_count": null,
   "metadata": {
    "slideshow": {
     "slide_type": "skip"
    }
   },
   "outputs": [],
   "source": [
    "# 1-the distibution of the duration:\n",
    "\n",
    "bins = np.arange(0, fordgobike.duration_min.max()+5, 5)\n",
    "\n",
    "plt.figure(figsize=[8, 5])\n",
    "plt.hist(data=fordgobike, x='duration_min', bins=bins);\n",
    "plt.xlim(0, 60)\n",
    "plt.xlabel('Trip duration in minutes', fontsize=12)\n",
    "plt.ylabel('count');"
   ]
  },
  {
   "cell_type": "markdown",
   "metadata": {
    "slideshow": {
     "slide_type": "skip"
    }
   },
   "source": [
    "Here I see that the plot is highly skewed to the right with a long tail, so log transformation will be useful here. Almost 30k trip consumed less than 5 minutes, and the majority between 5 and 10 minutes. Also there is many outliers that affects the plot, so I had to zoom in to the range of 60 minutes, which is the most frequent, to see the distribution."
   ]
  },
  {
   "cell_type": "markdown",
   "metadata": {
    "slideshow": {
     "slide_type": "slide"
    }
   },
   "source": [
    "## (Distribution of Trip Durations)\n",
    "\n",
    "> The distribution of trip durations has a long range of values. After plotting on a log scale, it appears unimodal with it's peak at 6 minutes."
   ]
  },
  {
   "cell_type": "code",
   "execution_count": 17,
   "metadata": {
    "slideshow": {
     "slide_type": "subslide"
    }
   },
   "outputs": [
    {
     "data": {
      "image/png": "[encoded data removed]",
      "text/plain": [
       "<Figure size 576x360 with 1 Axes>"
      ]
     },
     "metadata": {
      "needs_background": "light"
     },
     "output_type": "display_data"
    }
   ],
   "source": [
    "bins = np.arange(0, fordgobike.duration_min.max()+1, 1)\n",
    "plt.figure(figsize=[8, 5])\n",
    "plt.hist(data=fordgobike, x='duration_min', bins=bins)\n",
    "plt.xscale('log')\n",
    "plt.title('Trip Duration Distibution', fontsize=15)\n",
    "plt.xlabel('Trip duration in minutes  \"Log-transformed\"', fontsize=11)\n",
    "plt.ylabel('count')\n",
    "ticks = [0.5, 1, 2, 5, 10, 20, 50, 100]\n",
    "labels = ['{}'.format(v) for v in ticks]\n",
    "plt.xticks(ticks, labels);"
   ]
  },
  {
   "cell_type": "markdown",
   "metadata": {
    "slideshow": {
     "slide_type": "skip"
    }
   },
   "source": [
    "As we can see the duration distribution is unimodal with the peak at around 6 minutes."
   ]
  },
  {
   "cell_type": "markdown",
   "metadata": {
    "slideshow": {
     "slide_type": "slide"
    }
   },
   "source": [
    "## (Day Hours Distibution)\n",
    "\n",
    "> The distibution is bimodal with two peaks at about (8 am) and (5 pm) which are the times for going to and retuning from a university or work and also the rush hours for traffic where people may use bikes instead of vehicels."
   ]
  },
  {
   "cell_type": "code",
   "execution_count": 18,
   "metadata": {
    "slideshow": {
     "slide_type": "subslide"
    }
   },
   "outputs": [
    {
     "data": {
      "image/png": "[encoded data removed]",
      "text/plain": [
       "<Figure size 720x432 with 1 Axes>"
      ]
     },
     "metadata": {
      "needs_background": "light"
     },
     "output_type": "display_data"
    }
   ],
   "source": [
    "plt.figure(figsize=[10,6])\n",
    "plt.hist(data=fordgobike, x='start_hour', bins=24)\n",
    "plt.xticks(np.arange(0,24,2), np.arange(0,24,2))\n",
    "plt.title('Day Hours Distibution', fontsize=15)\n",
    "plt.xlabel('Hour')\n",
    "plt.ylabel('count');"
   ]
  },
  {
   "cell_type": "markdown",
   "metadata": {
    "slideshow": {
     "slide_type": "skip"
    }
   },
   "source": [
    "The distibution is bimodal with two peaks at about (8 am) and (5 pm) which are the times for going to and retuning from a university or work and also the rush hours for traffic where people may use bikes instead of vehicels."
   ]
  },
  {
   "cell_type": "code",
   "execution_count": 21,
   "metadata": {
    "slideshow": {
     "slide_type": "skip"
    }
   },
   "outputs": [],
   "source": [
    "# Some Colors:\n",
    "\n",
    "default_color = sb.color_palette()[0]\n",
    "default_color_1 = sb.color_palette()[1]\n",
    "default_color_2 = sb.color_palette()[2]\n",
    "default_color_3 = sb.color_palette()[3]"
   ]
  },
  {
   "cell_type": "code",
   "execution_count": null,
   "metadata": {
    "slideshow": {
     "slide_type": "skip"
    }
   },
   "outputs": [],
   "source": [
    "# 3-the distibution of the start_day:\n",
    "\n",
    "plt.figure(figsize=[12,6])\n",
    "\n",
    "sb.countplot(data=fordgobike, x='start_day', color=default_color);"
   ]
  },
  {
   "cell_type": "markdown",
   "metadata": {
    "slideshow": {
     "slide_type": "skip"
    }
   },
   "source": [
    "As one would expect, there is almost a steady number of trips for all days of the month separated by two days between each five days when people mostly are in weekend (2,3 low trips) then (4:8 high) then (9,10 low) and so on, though the pattern is not normal for the 13th of the month. It may be a holiday or has something to do with Valentine's Day."
   ]
  },
  {
   "cell_type": "code",
   "execution_count": null,
   "metadata": {
    "slideshow": {
     "slide_type": "skip"
    }
   },
   "outputs": [],
   "source": [
    "# what is that day?\n",
    "fordgobike[fordgobike.start_day == 13].weekDay.value_counts()"
   ]
  },
  {
   "cell_type": "markdown",
   "metadata": {
    "slideshow": {
     "slide_type": "skip"
    }
   },
   "source": [
    "\"Wednesday\", it is not a weekend so it should have a normal number of trips like the day before it for example. It may need farther invistigation."
   ]
  },
  {
   "cell_type": "code",
   "execution_count": null,
   "metadata": {
    "slideshow": {
     "slide_type": "skip"
    }
   },
   "outputs": [],
   "source": [
    "# now plotting a bar chart for week days to see the distribution:\n",
    "\n",
    "plt.figure(figsize=[8, 5])\n",
    "sb.countplot(data=fordgobike, x='weekDay', color=default_color_2)\n",
    "plt.xticks(rotation=20);"
   ]
  },
  {
   "cell_type": "markdown",
   "metadata": {
    "slideshow": {
     "slide_type": "skip"
    }
   },
   "source": [
    "As we expected, weekends have lower number of trips."
   ]
  },
  {
   "cell_type": "code",
   "execution_count": null,
   "metadata": {
    "slideshow": {
     "slide_type": "skip"
    }
   },
   "outputs": [],
   "source": [
    "# 4-the distibution of the age:\n",
    "\n",
    "plt.figure(figsize=[8, 5])\n",
    "bins = np.arange(0, fordgobike.age.max()+2, 2)\n",
    "plt.hist(data=fordgobike, x='age', bins=bins)\n",
    "plt.xlabel('Age')\n",
    "plt.ylabel('count');"
   ]
  },
  {
   "cell_type": "markdown",
   "metadata": {
    "slideshow": {
     "slide_type": "skip"
    }
   },
   "source": [
    "The majority are between 20 and 60, which is the expected category to ride a bike including university students and workers, however, there is also a significant fraction of relatively old people who ride bikes. There are some outliers in the age so I think I will exclude the trips with ages greater than 80."
   ]
  },
  {
   "cell_type": "code",
   "execution_count": null,
   "metadata": {
    "slideshow": {
     "slide_type": "skip"
    }
   },
   "outputs": [],
   "source": [
    "# looking at the number of outliers\n",
    "fordgobike[fordgobike.age > 80].shape"
   ]
  },
  {
   "cell_type": "code",
   "execution_count": 19,
   "metadata": {
    "slideshow": {
     "slide_type": "skip"
    }
   },
   "outputs": [],
   "source": [
    "# excluding outliers from the data:\n",
    "fordgobike.drop(fordgobike[fordgobike.age > 80].index, axis=0, inplace=True)\n",
    "fordgobike.reset_index(inplace=True, drop=True)"
   ]
  },
  {
   "cell_type": "code",
   "execution_count": null,
   "metadata": {
    "slideshow": {
     "slide_type": "skip"
    }
   },
   "outputs": [],
   "source": [
    "# 5-the relative fractions of user_type, member_gender, and bike_share_for_all_trip:\n",
    "\n",
    "plt.figure(figsize=[17,8])\n",
    "\n",
    "plt.subplot(1,3,1)\n",
    "sorted_counts = fordgobike.user_type.value_counts()\n",
    "plt.pie(x=sorted_counts, labels=sorted_counts.index, startangle=90, counterclock=False,\n",
    "        autopct=lambda p: '{:.1f}%'.format(p))\n",
    "plt.axis('square')\n",
    "plt.xlabel('user type', labelpad=30);\n",
    "\n",
    "plt.subplot(1,3,2)\n",
    "sorted_counts = fordgobike.member_gender.value_counts()\n",
    "plt.pie(x=sorted_counts, labels=sorted_counts.index, startangle=90, counterclock=False,\n",
    "        autopct=lambda p: '{:.1f}%'.format(p))\n",
    "plt.axis('square');\n",
    "plt.xlabel('Gender', labelpad=30);\n",
    "\n",
    "plt.subplot(1,3,3)\n",
    "sorted_counts = fordgobike.bike_share_for_all_trip.value_counts()\n",
    "plt.pie(x=sorted_counts, labels=sorted_counts.index, startangle=90, counterclock=False,\n",
    "        autopct=lambda p: '{:.1f}%'.format(p))\n",
    "plt.axis('square');\n",
    "plt.xlabel('Bike_share_for_all program', labelpad=30);"
   ]
  },
  {
   "cell_type": "markdown",
   "metadata": {
    "slideshow": {
     "slide_type": "skip"
    }
   },
   "source": [
    "Most of the trips are for male subscribers who are not part of Bike_share_for_all program."
   ]
  },
  {
   "cell_type": "markdown",
   "metadata": {
    "slideshow": {
     "slide_type": "skip"
    }
   },
   "source": [
    "### Discuss the distribution(s) of your variable(s) of interest. Were there any unusual points? Did you need to perform any transformations?\n",
    "\n",
    "> The duration variable distribution was highly right-skewed with a long tail of data, so I used a log scale for the distribution and it appeared unimodal with the peak at around 6 minutes.\n",
    "\n",
    "### Of the features you investigated, were there any unusual distributions? Did you perform any operations on the data to tidy, adjust, or change the form of the data? If so, why did you do this?\n",
    "\n",
    "> For the start_day distribution, there was an abnormal value associated with 13th of the month. Regarding rider ages, there were outliers, so I excluded all the data with age values greater than 80 years since we expect bike riders to be relatively young. Also, there were only 192 outliers, which is not a significant fraction. "
   ]
  },
  {
   "cell_type": "markdown",
   "metadata": {
    "slideshow": {
     "slide_type": "skip"
    }
   },
   "source": [
    "## Bivariate Exploration\n",
    "\n"
   ]
  },
  {
   "cell_type": "markdown",
   "metadata": {
    "slideshow": {
     "slide_type": "skip"
    }
   },
   "source": [
    "I will consider the relation between each of the brevious features(start_hour, weekDay, member_gender, user_type and age) and the average of trip duration."
   ]
  },
  {
   "cell_type": "code",
   "execution_count": null,
   "metadata": {
    "slideshow": {
     "slide_type": "skip"
    }
   },
   "outputs": [],
   "source": [
    "# Frist How the duration is affected by the time of the day:\n",
    "\n",
    "plt.figure(figsize=[20,8])\n",
    "\n",
    "plt.subplot(1,2,1)\n",
    "sb.barplot(data=fordgobike, x='start_hour', y='duration_min', color=default_color, ci=0)\n",
    "plt.grid(axis='y');\n",
    "\n",
    "plt.subplot(1,2,2)\n",
    "sb.boxplot(data=fordgobike, x='start_hour', y='duration_min', color=default_color);\n",
    "plt.yscale('log')\n",
    "plt.ylabel('duration  \"Log-transformed\"', labelpad=10)\n",
    "plt.ylim(0.5,100);"
   ]
  },
  {
   "cell_type": "markdown",
   "metadata": {
    "slideshow": {
     "slide_type": "skip"
    }
   },
   "source": [
    "Most of the trips take, on average, from 4 to 11 minutes. Looking at the right plot, we can see that the average duration rises a little bit at the noon of the day. However, the interesting thing is the peak at 2 and 3 am. One can expain that by darkness of the streets at this time since many shops will be closed already."
   ]
  },
  {
   "cell_type": "markdown",
   "metadata": {
    "slideshow": {
     "slide_type": "slide"
    }
   },
   "source": [
    "## (Trip Duration along Week Days)\n",
    "\n",
    "> The mean duration is nearly steady, of about 11 minutes, through week days. However, the average duration for weekends is a little bit longer. This was due to the relatively low number of trips on weekedns and the broader duration distribution associated with Saturday and Sunday as appears from the box plot."
   ]
  },
  {
   "cell_type": "code",
   "execution_count": 23,
   "metadata": {
    "slideshow": {
     "slide_type": "subslide"
    }
   },
   "outputs": [
    {
     "data": {
      "image/png": "[encoded data removed]",
      "text/plain": [
       "<Figure size 1440x576 with 2 Axes>"
      ]
     },
     "metadata": {
      "needs_background": "light"
     },
     "output_type": "display_data"
    }
   ],
   "source": [
    "plt.figure(figsize=[20,8])\n",
    "plt.subplot(1,2,1)\n",
    "sb.barplot(data=fordgobike, x='weekDay', y='duration_min', color=default_color_2, errwidth=0)\n",
    "plt.grid(axis='y')\n",
    "plt.title('Mean Duration vs Week Days', fontsize=15)\n",
    "plt.xlabel('Day', fontsize=12, labelpad=20)\n",
    "plt.ylabel('Average duration (min)', fontsize=12, labelpad=10);\n",
    "plt.subplot(1,2,2)\n",
    "sb.boxplot(data=fordgobike, x='weekDay', y='duration_min', color=default_color_2)\n",
    "plt.ylim(0, 35)\n",
    "plt.title('Duration Distribution for Week Days', fontsize=15)\n",
    "plt.xlabel('Day', fontsize=12, labelpad=20)\n",
    "plt.ylabel('duration (min)', fontsize=12, labelpad=10);"
   ]
  },
  {
   "cell_type": "markdown",
   "metadata": {
    "slideshow": {
     "slide_type": "skip"
    }
   },
   "source": [
    "The mean duration is nearly steady, of about 11 minutes, through week days. However, the average duration for weekends is a little bit longer. I will do further invistigation on that by faceting."
   ]
  },
  {
   "cell_type": "code",
   "execution_count": null,
   "metadata": {
    "slideshow": {
     "slide_type": "skip"
    }
   },
   "outputs": [],
   "source": [
    "# faceting:\n",
    "bins = np.arange(0, fordgobike.duration_min.max()+5, 5)\n",
    "g = sb.FacetGrid(data=fordgobike, col='weekDay', col_wrap=4, xlim=(0,300), ylim=(0,100))\n",
    "g.map(plt.hist, 'duration_min', bins=bins);"
   ]
  },
  {
   "cell_type": "markdown",
   "metadata": {
    "slideshow": {
     "slide_type": "skip"
    }
   },
   "source": [
    "As we can see, they all have almost fair distribution for high durations. Taking into account the fact that there are smaller number of trips on weekends (saturday, sunday), the distribution for high durations should affect the average. That's why the average duration for weekends is a little bit longer than that for weekdays."
   ]
  },
  {
   "cell_type": "markdown",
   "metadata": {
    "slideshow": {
     "slide_type": "slide"
    }
   },
   "source": [
    "## (Trip Duration and Age Correlation)\n",
    "\n",
    "> Despite that most of data is at to lower ages, there is a very weak positive correlation between the age and duration."
   ]
  },
  {
   "cell_type": "code",
   "execution_count": 24,
   "metadata": {
    "slideshow": {
     "slide_type": "subslide"
    }
   },
   "outputs": [
    {
     "data": {
      "image/png": "[encoded data removed]",
      "text/plain": [
       "<Figure size 864x504 with 1 Axes>"
      ]
     },
     "metadata": {
      "needs_background": "light"
     },
     "output_type": "display_data"
    }
   ],
   "source": [
    "np.random.seed(2019)\n",
    "samples = np.random.choice(fordgobike.shape[0], 50000, replace = False)\n",
    "ford_samp = fordgobike.loc[samples,:]\n",
    "plt.figure(figsize=[12,7])\n",
    "sb.regplot(data=ford_samp, x='age', y='duration_min', scatter_kws={'alpha':.1})\n",
    "plt.ylim(0,20)\n",
    "plt.title('Trip Duration vs Age', fontsize=16)\n",
    "plt.xlabel('Age', fontsize=12, labelpad=15)\n",
    "plt.ylabel('duration (min)', fontsize=12, labelpad=10);"
   ]
  },
  {
   "cell_type": "markdown",
   "metadata": {
    "slideshow": {
     "slide_type": "skip"
    }
   },
   "source": [
    "Despite that most of data is at to lower ages, there is obviously a very weak positive correlation between the age and duration."
   ]
  },
  {
   "cell_type": "code",
   "execution_count": 25,
   "metadata": {
    "scrolled": false,
    "slideshow": {
     "slide_type": "skip"
    }
   },
   "outputs": [
    {
     "data": {
      "text/html": [
       "<div>\n",
       "<style scoped>\n",
       "    .dataframe tbody tr th:only-of-type {\n",
       "        vertical-align: middle;\n",
       "    }\n",
       "\n",
       "    .dataframe tbody tr th {\n",
       "        vertical-align: top;\n",
       "    }\n",
       "\n",
       "    .dataframe thead th {\n",
       "        text-align: right;\n",
       "    }\n",
       "</style>\n",
       "<table border=\"1\" class=\"dataframe\">\n",
       "  <thead>\n",
       "    <tr style=\"text-align: right;\">\n",
       "      <th></th>\n",
       "      <th>duration_min</th>\n",
       "      <th>age</th>\n",
       "    </tr>\n",
       "  </thead>\n",
       "  <tbody>\n",
       "    <tr>\n",
       "      <th>duration_min</th>\n",
       "      <td>1.00</td>\n",
       "      <td>0.01</td>\n",
       "    </tr>\n",
       "    <tr>\n",
       "      <th>age</th>\n",
       "      <td>0.01</td>\n",
       "      <td>1.00</td>\n",
       "    </tr>\n",
       "  </tbody>\n",
       "</table>\n",
       "</div>"
      ],
      "text/plain": [
       "              duration_min   age\n",
       "duration_min          1.00  0.01\n",
       "age                   0.01  1.00"
      ]
     },
     "execution_count": 25,
     "metadata": {},
     "output_type": "execute_result"
    }
   ],
   "source": [
    "# Finding the correlation between age and duration:\n",
    "fordgobike[['duration_min', 'age']].corr().round(decimals=2)"
   ]
  },
  {
   "cell_type": "code",
   "execution_count": null,
   "metadata": {
    "slideshow": {
     "slide_type": "skip"
    }
   },
   "outputs": [],
   "source": [
    "# Now, let's see the duration associated with the most frequent age using a heat map:\n",
    "\n",
    "plt.figure(figsize=[12,7])\n",
    "\n",
    "x_bins = np.arange(fordgobike.age.min(), fordgobike.age.max()+2, 2)\n",
    "y_bins = np.arange(0, 100, 2)\n",
    "plt.hist2d(data=fordgobike, x='age', y='duration_min', cmin=0.5, cmap='viridis_r', bins=[x_bins, y_bins])\n",
    "plt.colorbar(label='count')\n",
    "plt.ylim(0,60);\n",
    "plt.xlabel('Age')\n",
    "plt.ylabel('duration (min)', labelpad=10);"
   ]
  },
  {
   "cell_type": "markdown",
   "metadata": {
    "slideshow": {
     "slide_type": "skip"
    }
   },
   "source": [
    "The duration associated with the most frequent age, ranging from 20 to 45 years old, is 20 minutes or less. This is normal because \n",
    " most people, in general, do not ride bikes for an hour or more since it will be exhausting, specially if it is frequent or daily."
   ]
  },
  {
   "cell_type": "code",
   "execution_count": null,
   "metadata": {
    "slideshow": {
     "slide_type": "skip"
    }
   },
   "outputs": [],
   "source": [
    "# age distribution for different genders:\n",
    "\n",
    "plt.figure(figsize=[10,6])\n",
    "plt.hist(fordgobike[fordgobike.member_gender == 'Male'].age, bins=30, color='blue');\n",
    "plt.hist(fordgobike[fordgobike.member_gender == 'Female'].age, bins=30, color='deepskyblue');\n",
    "plt.hist(fordgobike[fordgobike.member_gender == 'Other'].age, bins=30, color='DimGray')\n",
    "plt.legend(['Male','Female','Other']);\n",
    "plt.xlabel('Age')\n",
    "plt.ylabel('count');"
   ]
  },
  {
   "cell_type": "code",
   "execution_count": null,
   "metadata": {
    "slideshow": {
     "slide_type": "skip"
    }
   },
   "outputs": [],
   "source": [
    "# age distribution for different users:\n",
    "plt.figure(figsize=[10,6])\n",
    "plt.hist(ford_samp[ford_samp.user_type == 'Subscriber'].age, bins=30, color='green');\n",
    "plt.hist(ford_samp[ford_samp.user_type == 'Customer'].age, bins=30);\n",
    "plt.legend(['Subscriber','Customer']);\n",
    "plt.xlabel('Age')\n",
    "plt.ylabel('count');"
   ]
  },
  {
   "cell_type": "markdown",
   "metadata": {
    "slideshow": {
     "slide_type": "skip"
    }
   },
   "source": [
    "There is a peak age for subscribers few years above 30, while the peak for customers is about 30."
   ]
  },
  {
   "cell_type": "markdown",
   "metadata": {
    "slideshow": {
     "slide_type": "skip"
    }
   },
   "source": [
    "### Talk about some of the relationships you observed in this part of the investigation. How did the feature(s) of interest vary with other features in the dataset?\n",
    "\n",
    ">  Most of the trips take, on average, from 4 to 11 minutes. The mean duration is nearly steady, of about 11 minutes, through week days. However, the average duration for weekends is a little bit longer. There is a positive weak correlation between age and tip duration, with the duration associated with the most frequent age is 20 minutes or less.\n",
    "\n",
    "### Did you observe any interesting relationships between the other features (not the main feature(s) of interest)?\n",
    "\n",
    "> No, in fact all the relations seemed consistent."
   ]
  },
  {
   "cell_type": "markdown",
   "metadata": {
    "slideshow": {
     "slide_type": "skip"
    }
   },
   "source": [
    "## Multivariate Exploration\n",
    "\n"
   ]
  },
  {
   "cell_type": "markdown",
   "metadata": {
    "slideshow": {
     "slide_type": "skip"
    }
   },
   "source": [
    "##### Questions I will be answering:\n",
    "\n",
    "    1- Does the average trip duration associated with different days and hours differ by user type?\n",
    "    2- is the duration, associated with the most frequent age, the same for both genders?\n",
    "    3- Does average duration for each gender differ by user_type?"
   ]
  },
  {
   "cell_type": "markdown",
   "metadata": {
    "slideshow": {
     "slide_type": "slide"
    }
   },
   "source": [
    "## (User Type Impact on the Mean Duration along the Week)\n",
    "\n",
    "> Customers' trips take more time in general. The interesting thing here is the steady average trip time around the week for the Sbscribers versus the vriability in the duration for the Customers. This is actually predictable since subscribers are expected to maintain a fixed use, while customers are free of that commitment."
   ]
  },
  {
   "cell_type": "code",
   "execution_count": 26,
   "metadata": {
    "slideshow": {
     "slide_type": "subslide"
    }
   },
   "outputs": [
    {
     "data": {
      "image/png": "[encoded data removed]",
      "text/plain": [
       "<Figure size 864x504 with 1 Axes>"
      ]
     },
     "metadata": {
      "needs_background": "light"
     },
     "output_type": "display_data"
    }
   ],
   "source": [
    "plt.figure(figsize=[12,7])\n",
    "sb.barplot(data=fordgobike, x='user_type', y='duration_min', hue='weekDay', palette='viridis')\n",
    "plt.grid(axis='y')\n",
    "plt.title('Trip duration along the week for customers and subscribers', fontsize= 15)\n",
    "plt.ylabel('Average trip duration (min)', labelpad=10)\n",
    "plt.xlabel('User type', labelpad=10);"
   ]
  },
  {
   "cell_type": "markdown",
   "metadata": {
    "slideshow": {
     "slide_type": "skip"
    }
   },
   "source": [
    "So, obviously Customers' trips take more time in general. The interesting thing here is the steady average trip time around the week for the Sbscribers versus the vriability in the duration for the Customers. This is actually predictable since subscribers are expected to maintain a fixed use, while customers are free of that commitment."
   ]
  },
  {
   "cell_type": "code",
   "execution_count": null,
   "metadata": {
    "slideshow": {
     "slide_type": "skip"
    }
   },
   "outputs": [],
   "source": [
    "# Now I will create the above plot for different genders:\n",
    "\n",
    "g = sb.FacetGrid(data=ford_samp, col='member_gender', col_wrap=2, height=4, aspect=1.5)\n",
    "g.map(sb.barplot, 'user_type', 'duration_min', 'weekDay', order=user_order, palette='viridis', ci=0)\n",
    "g.add_legend();"
   ]
  },
  {
   "cell_type": "markdown",
   "metadata": {
    "slideshow": {
     "slide_type": "skip"
    }
   },
   "source": [
    "Here is an interesting thing in the second plot. As compared to the first plot, we can see that females' trips takes longer durations on average. Also, the subscribers from both genders maintain an average duration, though there is variability for Other gender durations."
   ]
  },
  {
   "cell_type": "code",
   "execution_count": null,
   "metadata": {
    "slideshow": {
     "slide_type": "skip"
    }
   },
   "outputs": [],
   "source": [
    "# The same plot as the above.\n",
    "user_order = ['Subscriber', 'Customer']\n",
    "gender_order = ['Male', 'Female', 'Other']\n",
    "g = sb.FacetGrid(data=ford_samp, col='user_type', col_order=user_order, row='member_gender', row_order=gender_order, height=4, aspect=1.5, margin_titles=True)\n",
    "g.map(sb.barplot, 'weekDay', 'duration_min', palette='viridis', ci=0);"
   ]
  },
  {
   "cell_type": "markdown",
   "metadata": {
    "slideshow": {
     "slide_type": "slide"
    }
   },
   "source": [
    "## (Variation of trip duration along the day for customers and subscribers)\n",
    "\n",
    "> It is surprising that the mean duration is almost steady for the subscribers. One would expect a kind of variation along the day, however, it may be meaningful that it is the case for subscribers, who have trips according to a schedule. For the Customer type, there is variation with 3 peaks, one at (2,3) am, another at noon and afternoon, and one at midnight."
   ]
  },
  {
   "cell_type": "code",
   "execution_count": 27,
   "metadata": {
    "scrolled": false,
    "slideshow": {
     "slide_type": "subslide"
    }
   },
   "outputs": [
    {
     "data": {
      "image/png": "[encoded data removed]",
      "text/plain": [
       "<Figure size 1440x720 with 1 Axes>"
      ]
     },
     "metadata": {
      "needs_background": "light"
     },
     "output_type": "display_data"
    }
   ],
   "source": [
    "plt.figure(figsize=[20,10])\n",
    "sb.barplot(data=fordgobike, x='start_hour', y='duration_min', hue='user_type', palette='Blues', ci=0)\n",
    "plt.grid(axis='y')\n",
    "plt.ylim(0,50)\n",
    "plt.title('Variation of trip duration along the day for customers and subscribers', fontsize= 20)\n",
    "plt.xlabel('Hour', fontsize= 15, labelpad=15)\n",
    "plt.ylabel('Average duration  (min)', fontsize= 15, labelpad=15);"
   ]
  },
  {
   "cell_type": "markdown",
   "metadata": {
    "slideshow": {
     "slide_type": "skip"
    }
   },
   "source": [
    "It is surprising that the mean duration is almost steady for the subscribers. One would expect a kind of variation along the day, however, it may be meaningful that it is the case for subscribers, who have trips according to a schedule. For the Customer type, there is variation with 3 peaks, one at (2,3) am, another at noon and afternoon, and one at midnight. This actually need farther invistigation. "
   ]
  },
  {
   "cell_type": "code",
   "execution_count": null,
   "metadata": {
    "slideshow": {
     "slide_type": "skip"
    }
   },
   "outputs": [],
   "source": [
    "# 2- is the duration, associated with the most frequent age, the same for both genders?\n",
    "\n",
    "\n",
    "plt.figure(figsize=[20,14])\n",
    "x_bins = np.arange(fordgobike.age.min(), fordgobike.age.max()+2, 2)\n",
    "y_bins = np.arange(0, 100, 2)\n",
    "\n",
    "plt.subplot(2,2,1)\n",
    "plt.hist2d(data=fordgobike[fordgobike.member_gender == 'Male'], x='age', y='duration_min', cmin=0.5, cmap='viridis_r', bins=[x_bins, y_bins])\n",
    "plt.colorbar(label='count')\n",
    "plt.ylim(0,60)\n",
    "plt.title('Trip duration vs Age for Males', fontsize= 13)\n",
    "plt.xlabel('Age')\n",
    "plt.ylabel('duration (min)');\n",
    "\n",
    "plt.subplot(2,2,2)\n",
    "plt.hist2d(data=fordgobike[fordgobike.member_gender == 'Female'], x='age', y='duration_min', cmin=0.5, cmap='viridis_r', bins=[x_bins, y_bins])\n",
    "plt.colorbar(label='count')\n",
    "plt.ylim(0,60)\n",
    "plt.title('Trip duration vs Age for Females', fontsize= 13)\n",
    "plt.xlabel('Age')\n",
    "plt.ylabel('duration (min)');\n",
    "\n",
    "plt.subplot(2,2,3)\n",
    "plt.hist2d(data=fordgobike[fordgobike.member_gender == 'Other'], x='age', y='duration_min', cmin=0.5, cmap='viridis_r', bins=[x_bins, y_bins])\n",
    "plt.colorbar(label='count')\n",
    "plt.ylim(0,60)\n",
    "plt.title('Trip duration vs Age for Other gender', fontsize= 13)\n",
    "plt.xlabel('Age')\n",
    "plt.ylabel('duration (min)');"
   ]
  },
  {
   "cell_type": "markdown",
   "metadata": {
    "slideshow": {
     "slide_type": "skip"
    }
   },
   "source": [
    "Almost no difference. The time range associated with the most frequent age for each category is the same. However, we notice that  male age is more braoden for that range than female age. Other gender age looks bimodal between 30 and 40."
   ]
  },
  {
   "cell_type": "markdown",
   "metadata": {
    "slideshow": {
     "slide_type": "skip"
    }
   },
   "source": [
    " "
   ]
  },
  {
   "cell_type": "markdown",
   "metadata": {
    "slideshow": {
     "slide_type": "slide"
    }
   },
   "source": [
    "## (Trip duration vs user type for each gender)\n",
    "\n",
    "> Females generally take longer durations. I don't think that this is related to the physical attributes, but it may be a reflection of gender attitudes, something like the way each gender act or dress. The the distination of each gender probablly has something to do with this."
   ]
  },
  {
   "cell_type": "code",
   "execution_count": 29,
   "metadata": {
    "slideshow": {
     "slide_type": "subslide"
    }
   },
   "outputs": [
    {
     "data": {
      "image/png": "[encoded data removed]",
      "text/plain": [
       "<Figure size 720x432 with 1 Axes>"
      ]
     },
     "metadata": {
      "needs_background": "light"
     },
     "output_type": "display_data"
    }
   ],
   "source": [
    "user_order = ['Subscriber', 'Customer']\n",
    "gender_order = ['Male', 'Female', 'Other']\n",
    "plt.figure(figsize=[10,6])\n",
    "sb.pointplot(data=fordgobike.query('age > 25 and age > 45'), x='user_type', y='duration_min', hue='member_gender', \n",
    "             linestyles=\"\", dodge=.3, hue_order=gender_order)\n",
    "plt.grid(axis='y')\n",
    "plt.title('Trip duration vs user type for each gender', fontsize= 14)\n",
    "plt.xlabel('User type', fontsize= 11, labelpad=15)\n",
    "plt.ylabel('Average duration  (min)', fontsize= 11, labelpad=15);"
   ]
  },
  {
   "cell_type": "markdown",
   "metadata": {
    "slideshow": {
     "slide_type": "skip"
    }
   },
   "source": [
    "Females generally take longer durations. I don't think that this is related to the physical attributes, but it may be a reflection of gender attitudes, something like the way each gender act or dress. Though, I didn't investigate the the distination for each gender. It probablly has something to do with this."
   ]
  },
  {
   "cell_type": "code",
   "execution_count": null,
   "metadata": {
    "slideshow": {
     "slide_type": "skip"
    }
   },
   "outputs": [],
   "source": [
    "# the effect of bike_share_for_all program on the duration for each user type and gender:\n",
    "\n",
    "plt.figure(figsize=[18, 6])\n",
    "\n",
    "plt.subplot(1,2,1)\n",
    "sb.pointplot(data=fordgobike[fordgobike.bike_share_for_all_trip == 'No'], x='user_type', y='duration_min', \n",
    "             hue='member_gender', linestyles=\"\", ci=0, dodge=.3, order=user_order, hue_order=gender_order)\n",
    "plt.grid(axis='y')\n",
    "plt.ylim(8,30)\n",
    "plt.title('NOT Enrolled')\n",
    "plt.xlabel('User type', fontsize= 11, labelpad=15)\n",
    "plt.ylabel('Average duration  (min)', fontsize= 11, labelpad=15);\n",
    "\n",
    "plt.subplot(1,2,2)\n",
    "sb.pointplot(data=fordgobike[fordgobike.bike_share_for_all_trip == 'Yes'], x='user_type', y='duration_min', \n",
    "             hue='member_gender', linestyles=\"\", ci=0, dodge=.3, order=user_order, hue_order=gender_order)\n",
    "plt.grid(axis='y');\n",
    "plt.ylim(8,30)\n",
    "plt.title('Enrolled')\n",
    "plt.xlabel('User type', fontsize= 11, labelpad=15)\n",
    "plt.ylabel('Average duration  (min)', fontsize= 11, labelpad=15);"
   ]
  },
  {
   "cell_type": "markdown",
   "metadata": {
    "slideshow": {
     "slide_type": "skip"
    }
   },
   "source": [
    "The plot to the right reflects the fact that Customers are not part of bike_share_for_all_trip program, since they are not subscribers in the first place."
   ]
  },
  {
   "cell_type": "markdown",
   "metadata": {
    "slideshow": {
     "slide_type": "skip"
    }
   },
   "source": [
    "### Talk about some of the relationships you observed in this part of the investigation. Were there features that strengthened each other in terms of looking at your feature(s) of interest?\n",
    "\n",
    ">  It was so clear that all relationships reveal that Customers' trips take more time in general. The mean trip duration for subscribers was steady for all weekdays, around 11 minutes, and I considered that it's due to the usage according to a schedule. It was steady too along the day, which was surprising, since I expected some variation between day and night, though that was the case for customers, unlike subscribers. The time range associated with the most frequent age doesn't differ by gender. I also found that Females generally take longer durations. That might needed farther investigation in terms of start and end locations.\n",
    "\n",
    "### Were there any interesting or surprising interactions between features?\n",
    "\n",
    "> The fact that the average trip duration associated with subscribers is almost constant along the day was surprising, since one would expect a longer mean duration during night, when darkness exists and the vision is not clear as in the daytime."
   ]
  },
  {
   "cell_type": "code",
   "execution_count": null,
   "metadata": {
    "slideshow": {
     "slide_type": "skip"
    }
   },
   "outputs": [],
   "source": []
  }
 ],
 "metadata": {
  "celltoolbar": "Slideshow",
  "kernelspec": {
   "display_name": "Python 3",
   "language": "python",
   "name": "python3"
  },
  "language_info": {
   "codemirror_mode": {
    "name": "ipython",
    "version": 3
   },
   "file_extension": ".py",
   "mimetype": "text/x-python",
   "name": "python",
   "nbconvert_exporter": "python",
   "pygments_lexer": "ipython3",
   "version": "3.8.5"
  }
 },
 "nbformat": 4,
 "nbformat_minor": 2
}
